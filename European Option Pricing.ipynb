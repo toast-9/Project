{
 "cells": [
  {
   "cell_type": "code",
   "execution_count": 5,
   "id": "e6d2da3f",
   "metadata": {},
   "outputs": [
    {
     "name": "stdout",
     "output_type": "stream",
     "text": [
      "European Call Option Price: 10.45\n",
      "European Put Option Price: 5.57\n"
     ]
    }
   ],
   "source": [
    "import math\n",
    "from scipy.stats import norm\n",
    "\n",
    "def european_option_price(S, K, T, r, sigma, option_type='call'):\n",
    "    \"\"\"\n",
    "    Calculate the price of a European option using the Black-Scholes-Merton model.\n",
    "\n",
    "    Args:\n",
    "        S (float): Current stock price.\n",
    "        K (float): Strike price.\n",
    "        T (float): Time to expiration (in years).\n",
    "        r (float): Risk-free interest rate (as a decimal).\n",
    "        sigma (float): Volatility of the underlying asset's returns (as a decimal).\n",
    "        option_type (str): 'call' for call option, 'put' for put option.\n",
    "\n",
    "    Returns:\n",
    "        float: Option price.\n",
    "    \"\"\"\n",
    "    d1 = (math.log(S / K) + (r + (sigma ** 2) / 2) * T) / (sigma * math.sqrt(T))\n",
    "    d2 = d1 - sigma * math.sqrt(T)\n",
    "\n",
    "    if option_type == 'call':\n",
    "        option_price = S * norm.cdf(d1) - K * math.exp(-r * T) * norm.cdf(d2)\n",
    "    elif option_type == 'put':\n",
    "        option_price = K * math.exp(-r * T) * norm.cdf(-d2) - S * norm.cdf(-d1)\n",
    "    else:\n",
    "        raise ValueError(\"Invalid option_type. Use 'call' or 'put'.\")\n",
    "\n",
    "    return option_price\n",
    "\n",
    "# Example usage:\n",
    "S = 100   # Current stock price\n",
    "K = 100   # Strike price\n",
    "T = 1     # Time to expiration (1 year)\n",
    "r = 0.05  # Risk-free interest rate (5%)\n",
    "sigma = 0.2  # Volatility (20%)\n",
    "\n",
    "call_option_price = european_option_price(S, K, T, r, sigma, option_type='call')\n",
    "put_option_price = european_option_price(S, K, T, r, sigma, option_type='put')\n",
    "\n",
    "print(f\"European Call Option Price: {call_option_price:.2f}\")\n",
    "print(f\"European Put Option Price: {put_option_price:.2f}\")\n"
   ]
  },
  {
   "cell_type": "markdown",
   "id": "23762e3b",
   "metadata": {},
   "source": [
    "## Algorithm:\n",
    "\n",
    "Calculate the following intermediate variables:\n",
    "\n",
    "d1 = [ln(S/K) + (r + (σ^2)/2) * T] / (σ * √T)\n",
    "d2 = d1 - σ * √T\n",
    "Calculate the option price for a European call option (C) and a European put option (P) as follows:\n",
    "\n",
    "For a European call option:\n",
    "C = S * N(d1) - K * e^(-r * T) * N(d2)\n",
    "For a European put option:\n",
    "P = K * e^(-r * T) * N(-d2) - S * N(-d1)\n",
    "Where:\n",
    "\n",
    "N(x) is the cumulative distribution function (CDF) of the standard normal distribution.\n",
    "e is the mathematical constant approximately equal to 2.71828.\n",
    "Return the calculated option price (C for call, P for put).\n",
    "\n",
    "## Explanation:\n",
    "\n",
    "The BSM model uses the concept of continuous compounding to calculate the expected future value of the option at expiration.\n",
    "d1 and d2 are used to adjust the current stock price and strike price based on the risk-free interest rate, time to expiration, and volatility.\n",
    "N(d1) and N(d2) represent the probabilities that the option will expire in the money (i.e., with a positive value).\n",
    "For a European call option, the value is derived by taking the difference between the expected future value of the underlying asset (S * N(d1)) and the discounted strike price (K * e^(-r * T) * N(d2)).\n",
    "For a European put option, the value is derived by taking the difference between the discounted strike price (K * e^(-r * T) * N(-d2)) and the expected future value of the underlying asset (S * N(-d1))."
   ]
  },
  {
   "cell_type": "markdown",
   "id": "e69bb691",
   "metadata": {},
   "source": [
    "In the Black-Scholes-Merton (BSM) option pricing model, \"d1\" and \"d2\" are intermediate variables used to adjust the current stock price (S) and strike price (K) based on the risk-free interest rate (r), time to expiration (T), and volatility of the underlying asset's returns (sigma). These intermediate variables are essential components of the formula for calculating the option price.\n",
    "\n",
    "Here's a breakdown of \"d1\" and \"d2\" in the BSM model:\n",
    "\n",
    "1. **d1**:\n",
    "   - d1 is the term used in the BSM model to represent the adjustment of the current stock price (S) to account for the expected future volatility of the stock.\n",
    "   - It is calculated using the following formula:\n",
    "     ```\n",
    "     d1 = (ln(S / K) + (r + (sigma^2) / 2) * T) / (sigma * sqrt(T))\n",
    "     ```\n",
    "   - Where:\n",
    "     - `ln` is the natural logarithm.\n",
    "     - `S` is the current stock price.\n",
    "     - `K` is the strike price.\n",
    "     - `r` is the risk-free interest rate (expressed as a decimal).\n",
    "     - `sigma` is the volatility of the underlying asset's returns (expressed as a decimal).\n",
    "     - `T` is the time to expiration (in years).\n",
    "\n",
    "2. **d2**:\n",
    "   - d2 is another intermediate variable used in the BSM model, representing the adjustment of the current stock price (S) for risk-free interest and time to expiration.\n",
    "   - It is calculated using the formula:\n",
    "     ```\n",
    "     d2 = d1 - sigma * sqrt(T)\n",
    "     ```\n",
    "   - Where:\n",
    "     - `d1` is the previously calculated value.\n",
    "     - `sigma` is the volatility.\n",
    "     - `T` is the time to expiration.\n",
    "\n",
    "These intermediate variables are used in the BSM model to estimate the probability of the option expiring in the money (i.e., with a positive value) and to calculate the option price based on the cumulative distribution function (CDF) of the standard normal distribution. The BSM model provides a closed-form solution for European options, making it a widely used method for option pricing."
   ]
  },
  {
   "cell_type": "markdown",
   "id": "72697600",
   "metadata": {},
   "source": [
    "---------------------------------------------------"
   ]
  },
  {
   "cell_type": "markdown",
   "id": "98dbcab0",
   "metadata": {},
   "source": [
    "## Accounting for Dividends and Implied Volatility"
   ]
  },
  {
   "cell_type": "code",
   "execution_count": 4,
   "id": "eb68fa52",
   "metadata": {},
   "outputs": [
    {
     "name": "stdout",
     "output_type": "stream",
     "text": [
      "European Call Option Price: 11.12\n",
      "European Put Option Price: 8.23\n"
     ]
    }
   ],
   "source": [
    "import math\n",
    "from scipy.stats import norm\n",
    "\n",
    "def european_option_price(S, K, T, r, sigma, option_type='call', implied_volatility=None, dividend_yield=0.0):\n",
    "    \"\"\"\n",
    "    Calculate the price of a European option using the Black-Scholes-Merton model with implied volatility and dividends.\n",
    "\n",
    "    Args:\n",
    "        S (float): Current stock price.\n",
    "        K (float): Strike price.\n",
    "        T (float): Time to expiration (in years).\n",
    "        r (float): Risk-free interest rate (as a decimal).\n",
    "        sigma (float): Historical volatility of the underlying asset's returns (as a decimal).\n",
    "        option_type (str): 'call' for call option, 'put' for put option.\n",
    "        implied_volatility (float): Implied volatility (as a decimal).\n",
    "        dividend_yield (float): Dividend yield of the underlying asset (as a decimal).\n",
    "\n",
    "    Returns:\n",
    "        float: Option price.\n",
    "    \"\"\"\n",
    "    if implied_volatility is None:\n",
    "        implied_volatility = sigma\n",
    "\n",
    "    d1 = (math.log(S / K) + (r - dividend_yield + (implied_volatility ** 2) / 2) * T) / (implied_volatility * math.sqrt(T))\n",
    "    d2 = d1 - implied_volatility * math.sqrt(T)\n",
    "\n",
    "    if option_type == 'call':\n",
    "        option_price = S * math.exp(-dividend_yield * T) * norm.cdf(d1) - K * math.exp(-r * T) * norm.cdf(d2)\n",
    "    elif option_type == 'put':\n",
    "        option_price = K * math.exp(-r * T) * norm.cdf(-d2) - S * math.exp(-dividend_yield * T) * norm.cdf(-d1)\n",
    "    else:\n",
    "        raise ValueError(\"Invalid option_type. Use 'call' or 'put'.\")\n",
    "\n",
    "    return option_price\n",
    "\n",
    "# Example usage:\n",
    "S = 100     # Current stock price\n",
    "K = 100     # Strike price\n",
    "T = 1       # Time to expiration (1 year)\n",
    "r = 0.05    # Risk-free interest rate (5%)\n",
    "sigma = 0.2 # Historical volatility (20%)\n",
    "dividend_yield = 0.02  # Dividend yield (2%)\n",
    "implied_volatility = 0.25  # Implied volatility (25%)\n",
    "\n",
    "call_option_price = european_option_price(S, K, T, r, sigma, option_type='call', implied_volatility=implied_volatility, dividend_yield=dividend_yield)\n",
    "put_option_price = european_option_price(S, K, T, r, sigma, option_type='put', implied_volatility=implied_volatility, dividend_yield=dividend_yield)\n",
    "\n",
    "print(f\"European Call Option Price: {call_option_price:.2f}\")\n",
    "print(f\"European Put Option Price: {put_option_price:.2f}\")\n"
   ]
  },
  {
   "cell_type": "markdown",
   "id": "04d5d77a",
   "metadata": {},
   "source": [
    "In this modified algorithm:\n",
    "\n",
    "We added two new parameters: implied_volatility and dividend_yield. implied_volatility allows you to specify the implied volatility explicitly, and dividend_yield accounts for the dividend yield of the underlying asset.\n",
    "\n",
    "Instead of using the risk-free rate (r) to adjust for dividends, we subtract the dividend_yield from the risk-free rate in the calculation of d1 and d2.\n",
    "\n",
    "We multiply the current stock price (S) by math.exp(-dividend_yield * T) to account for dividends in the option price calculation.\n",
    "\n",
    "This modified algorithm allows you to calculate option prices while explicitly considering implied volatility and dividends, which are important factors in real-world options pricing."
   ]
  },
  {
   "cell_type": "code",
   "execution_count": null,
   "id": "d3328d14",
   "metadata": {},
   "outputs": [],
   "source": []
  }
 ],
 "metadata": {
  "kernelspec": {
   "display_name": "Python 3 (ipykernel)",
   "language": "python",
   "name": "python3"
  },
  "language_info": {
   "codemirror_mode": {
    "name": "ipython",
    "version": 3
   },
   "file_extension": ".py",
   "mimetype": "text/x-python",
   "name": "python",
   "nbconvert_exporter": "python",
   "pygments_lexer": "ipython3",
   "version": "3.9.13"
  }
 },
 "nbformat": 4,
 "nbformat_minor": 5
}
